{
 "cells": [
  {
   "cell_type": "code",
   "execution_count": 67,
   "metadata": {},
   "outputs": [],
   "source": [
    "import pandas as pd"
   ]
  },
  {
   "cell_type": "code",
   "execution_count": 68,
   "metadata": {},
   "outputs": [],
   "source": [
    "ecom = pd.read_csv(r\"C:\\PyCodes\\Sample - PythonDataScience&MachineLearning\\Python-for-Data-Analysis\\Pandas\\Pandas Exercises\\Ecommerce Purchases.csv\")"
   ]
  },
  {
   "cell_type": "code",
   "execution_count": 69,
   "metadata": {},
   "outputs": [],
   "source": [
    "# ecom = ecom[ecom['Job'].apply(lambda x: 'engineer' in x.lower())]"
   ]
  },
  {
   "cell_type": "code",
   "execution_count": 70,
   "metadata": {},
   "outputs": [
    {
     "data": {
      "text/plain": [
       "['Address',\n",
       " 'Lot',\n",
       " 'AM or PM',\n",
       " 'Browser Info',\n",
       " 'Company',\n",
       " 'Credit Card',\n",
       " 'CC Exp Date',\n",
       " 'CC Security Code',\n",
       " 'CC Provider',\n",
       " 'Email',\n",
       " 'Job',\n",
       " 'IP Address',\n",
       " 'Language',\n",
       " 'Purchase Price']"
      ]
     },
     "execution_count": 70,
     "metadata": {},
     "output_type": "execute_result"
    }
   ],
   "source": [
    "list(ecom.columns)"
   ]
  },
  {
   "cell_type": "code",
   "execution_count": 71,
   "metadata": {},
   "outputs": [],
   "source": [
    "count_ser = ecom.groupby('AM or PM')['Address'].count()"
   ]
  },
  {
   "cell_type": "code",
   "execution_count": 72,
   "metadata": {},
   "outputs": [
    {
     "data": {
      "text/plain": [
       "AM or PM\n",
       "AM    4932\n",
       "PM    5068\n",
       "Name: Address, dtype: int64"
      ]
     },
     "execution_count": 72,
     "metadata": {},
     "output_type": "execute_result"
    }
   ],
   "source": [
    "count_ser"
   ]
  },
  {
   "cell_type": "code",
   "execution_count": 73,
   "metadata": {},
   "outputs": [],
   "source": [
    "meanprice_ser = ecom.groupby('AM or PM')['Purchase Price'].mean()"
   ]
  },
  {
   "cell_type": "code",
   "execution_count": 74,
   "metadata": {},
   "outputs": [
    {
     "data": {
      "text/plain": [
       "AM or PM\n",
       "AM    50.186511\n",
       "PM    50.503779\n",
       "Name: Purchase Price, dtype: float64"
      ]
     },
     "execution_count": 74,
     "metadata": {},
     "output_type": "execute_result"
    }
   ],
   "source": [
    "meanprice_ser"
   ]
  },
  {
   "cell_type": "code",
   "execution_count": 75,
   "metadata": {},
   "outputs": [],
   "source": [
    "stdprice_ser = ecom.groupby('AM or PM')['Purchase Price'].std()"
   ]
  },
  {
   "cell_type": "code",
   "execution_count": 76,
   "metadata": {},
   "outputs": [],
   "source": [
    "medprice_ser = ecom.groupby('AM or PM')['Purchase Price'].median()"
   ]
  },
  {
   "cell_type": "code",
   "execution_count": 77,
   "metadata": {},
   "outputs": [],
   "source": [
    "df = pd.concat([count_ser, meanprice_ser, stdprice_ser, medprice_ser], axis=1)"
   ]
  },
  {
   "cell_type": "code",
   "execution_count": 78,
   "metadata": {},
   "outputs": [
    {
     "data": {
      "text/html": [
       "<div>\n",
       "<style scoped>\n",
       "    .dataframe tbody tr th:only-of-type {\n",
       "        vertical-align: middle;\n",
       "    }\n",
       "\n",
       "    .dataframe tbody tr th {\n",
       "        vertical-align: top;\n",
       "    }\n",
       "\n",
       "    .dataframe thead th {\n",
       "        text-align: right;\n",
       "    }\n",
       "</style>\n",
       "<table border=\"1\" class=\"dataframe\">\n",
       "  <thead>\n",
       "    <tr style=\"text-align: right;\">\n",
       "      <th></th>\n",
       "      <th>Address</th>\n",
       "      <th>Purchase Price</th>\n",
       "      <th>Purchase Price</th>\n",
       "      <th>Purchase Price</th>\n",
       "    </tr>\n",
       "    <tr>\n",
       "      <th>AM or PM</th>\n",
       "      <th></th>\n",
       "      <th></th>\n",
       "      <th></th>\n",
       "      <th></th>\n",
       "    </tr>\n",
       "  </thead>\n",
       "  <tbody>\n",
       "    <tr>\n",
       "      <th>AM</th>\n",
       "      <td>4932</td>\n",
       "      <td>50.186511</td>\n",
       "      <td>28.908133</td>\n",
       "      <td>50.01</td>\n",
       "    </tr>\n",
       "    <tr>\n",
       "      <th>PM</th>\n",
       "      <td>5068</td>\n",
       "      <td>50.503779</td>\n",
       "      <td>29.122267</td>\n",
       "      <td>51.04</td>\n",
       "    </tr>\n",
       "  </tbody>\n",
       "</table>\n",
       "</div>"
      ],
      "text/plain": [
       "          Address  Purchase Price  Purchase Price  Purchase Price\n",
       "AM or PM                                                         \n",
       "AM           4932       50.186511       28.908133           50.01\n",
       "PM           5068       50.503779       29.122267           51.04"
      ]
     },
     "execution_count": 78,
     "metadata": {},
     "output_type": "execute_result"
    }
   ],
   "source": [
    "df"
   ]
  },
  {
   "cell_type": "code",
   "execution_count": 79,
   "metadata": {},
   "outputs": [],
   "source": [
    "df.columns = 'Count Mean Std Median'.split()"
   ]
  },
  {
   "cell_type": "code",
   "execution_count": 80,
   "metadata": {},
   "outputs": [
    {
     "data": {
      "text/html": [
       "<div>\n",
       "<style scoped>\n",
       "    .dataframe tbody tr th:only-of-type {\n",
       "        vertical-align: middle;\n",
       "    }\n",
       "\n",
       "    .dataframe tbody tr th {\n",
       "        vertical-align: top;\n",
       "    }\n",
       "\n",
       "    .dataframe thead th {\n",
       "        text-align: right;\n",
       "    }\n",
       "</style>\n",
       "<table border=\"1\" class=\"dataframe\">\n",
       "  <thead>\n",
       "    <tr style=\"text-align: right;\">\n",
       "      <th></th>\n",
       "      <th>Count</th>\n",
       "      <th>Mean</th>\n",
       "      <th>Std</th>\n",
       "      <th>Median</th>\n",
       "    </tr>\n",
       "    <tr>\n",
       "      <th>AM or PM</th>\n",
       "      <th></th>\n",
       "      <th></th>\n",
       "      <th></th>\n",
       "      <th></th>\n",
       "    </tr>\n",
       "  </thead>\n",
       "  <tbody>\n",
       "    <tr>\n",
       "      <th>AM</th>\n",
       "      <td>4932</td>\n",
       "      <td>50.186511</td>\n",
       "      <td>28.908133</td>\n",
       "      <td>50.01</td>\n",
       "    </tr>\n",
       "    <tr>\n",
       "      <th>PM</th>\n",
       "      <td>5068</td>\n",
       "      <td>50.503779</td>\n",
       "      <td>29.122267</td>\n",
       "      <td>51.04</td>\n",
       "    </tr>\n",
       "  </tbody>\n",
       "</table>\n",
       "</div>"
      ],
      "text/plain": [
       "          Count       Mean        Std  Median\n",
       "AM or PM                                     \n",
       "AM         4932  50.186511  28.908133   50.01\n",
       "PM         5068  50.503779  29.122267   51.04"
      ]
     },
     "execution_count": 80,
     "metadata": {},
     "output_type": "execute_result"
    }
   ],
   "source": [
    "df"
   ]
  },
  {
   "cell_type": "code",
   "execution_count": 81,
   "metadata": {},
   "outputs": [],
   "source": [
    "# def add(a):\n",
    "#     if a < 50: \n",
    "#         return 0\n",
    "#     else: \n",
    "#         return a+1\n",
    "# def add50(lst):\n",
    "#     return sum([i for i in lst if i >= 50])\n",
    "\n",
    "# lam_add50 = lambda x : sum([i for i in x if i >= 50])\n",
    "\n",
    "# def second_price(lst):\n",
    "#     return sorted(lst, reverse=True)[1]\n",
    "\n",
    "# ecom.groupby('AM or PM')['Purchase Price'].apply(lambda x: sorted(list(x), reverse=True)[1])\n",
    "# ecom.groupby('AM or PM')['Purchase Price'].apply(lambda x: sorted(list(map(add,list(x))), reverse=False)[1])\n",
    "# ecom.groupby('AM or PM')['Purchase Price'].apply(lambda x: add50(list(x)))\n",
    "# ecom.groupby('AM or PM')['Purchase Price'].apply(lambda x: second_price(list(x)))\n",
    "# ecom.groupby('AM or PM')['Purchase Price'].apply(lambda x: lam_add50(list(x)))\n",
    "# ecom.groupby('AM or PM')['Purchase Price'].apply(lambda c: sum([i for i in list(c) if i >= 50]))\n"
   ]
  },
  {
   "cell_type": "code",
   "execution_count": null,
   "metadata": {},
   "outputs": [],
   "source": []
  },
  {
   "cell_type": "code",
   "execution_count": null,
   "metadata": {},
   "outputs": [],
   "source": []
  }
 ],
 "metadata": {
  "kernelspec": {
   "display_name": "Python 3",
   "language": "python",
   "name": "python3"
  },
  "language_info": {
   "codemirror_mode": {
    "name": "ipython",
    "version": 3
   },
   "file_extension": ".py",
   "mimetype": "text/x-python",
   "name": "python",
   "nbconvert_exporter": "python",
   "pygments_lexer": "ipython3",
   "version": "3.6.5"
  }
 },
 "nbformat": 4,
 "nbformat_minor": 2
}
